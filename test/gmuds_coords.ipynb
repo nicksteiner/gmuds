{
 "cells": [
  {
   "cell_type": "code",
   "execution_count": 1,
   "metadata": {
    "collapsed": true
   },
   "outputs": [],
   "source": [
    "import pyproj"
   ]
  },
  {
   "cell_type": "code",
   "execution_count": 3,
   "metadata": {
    "collapsed": true
   },
   "outputs": [],
   "source": [
    "p_str = \"+proj=lcc +lat_1=30 +lat_2=62 +lat_0=0 +lon_0=105 +x_0=0 +y_0=0 +ellps=WGS84 +datum=WGS84 +units=m +no_defs\"\n",
    "p_gmuds = pyproj.Proj(p_str)"
   ]
  },
  {
   "cell_type": "code",
   "execution_count": 5,
   "metadata": {
    "collapsed": false
   },
   "outputs": [],
   "source": [
    "p_latlon = pyproj.Proj(\"+proj=longlat +ellps=WGS84 +datum=WGS84 +no_defs\")"
   ]
  },
  {
   "cell_type": "code",
   "execution_count": 8,
   "metadata": {
    "collapsed": false
   },
   "outputs": [],
   "source": [
    "pyproj.transform?"
   ]
  },
  {
   "cell_type": "code",
   "execution_count": 9,
   "metadata": {
    "collapsed": true
   },
   "outputs": [],
   "source": [
    "SouthLat =  3000000  # y1\n",
    "NorthLat =  5000000  # y2\n",
    "WestLon  = -3000000  # x1\n",
    "EastLon  =  0        # x2"
   ]
  },
  {
   "cell_type": "code",
   "execution_count": 14,
   "metadata": {
    "collapsed": false
   },
   "outputs": [
    {
     "data": {
      "text/plain": [
       "'77.7145642475862 19.191090019751435,'"
      ]
     },
     "execution_count": 14,
     "metadata": {},
     "output_type": "execute_result"
    }
   ],
   "source": [
    "'{} {},'.format(*pyproj.transform(p_gmuds, p_latlon, WestLon, SouthLat))"
   ]
  },
  {
   "cell_type": "code",
   "execution_count": 15,
   "metadata": {
    "collapsed": false
   },
   "outputs": [
    {
     "data": {
      "text/plain": [
       "'77.7145642475862 19.191090019751435,70.02542526072195 35.59587024109527,105.00000000000001 41.898067681809735,105.00000000000001 23.717529627946796,77.7145642475862 19.191090019751435'"
      ]
     },
     "execution_count": 15,
     "metadata": {},
     "output_type": "execute_result"
    }
   ],
   "source": [
    "','.join(['{} {}'.format(*pyproj.transform(p_gmuds, p_latlon, WestLon, SouthLat)),\n",
    "'{} {}'.format(*pyproj.transform(p_gmuds, p_latlon, WestLon, NorthLat)),\n",
    "'{} {}'.format(*pyproj.transform(p_gmuds, p_latlon, EastLon, NorthLat)),\n",
    "'{} {}'.format(*pyproj.transform(p_gmuds, p_latlon, EastLon, SouthLat)),\n",
    "'{} {}'.format(*pyproj.transform(p_gmuds, p_latlon, WestLon, SouthLat))])\n"
   ]
  },
  {
   "cell_type": "code",
   "execution_count": 18,
   "metadata": {
    "collapsed": false
   },
   "outputs": [
    {
     "name": "stdout",
     "output_type": "stream",
     "text": [
      "POLYGON(77.7145642475862 19.191090019751435,70.02542526072195 35.59587024109527,105.00000000000001 41.898067681809735,105.00000000000001 23.717529627946796,77.7145642475862 19.191090019751435)\n"
     ]
    }
   ],
   "source": [
    "coords_ = ','.join(['{} {}'.format(*pyproj.transform(p_gmuds, p_latlon, WestLon, SouthLat)),\n",
    "'{} {}'.format(*pyproj.transform(p_gmuds, p_latlon, WestLon, NorthLat)),\n",
    "'{} {}'.format(*pyproj.transform(p_gmuds, p_latlon, EastLon, NorthLat)),\n",
    "'{} {}'.format(*pyproj.transform(p_gmuds, p_latlon, EastLon, SouthLat)),\n",
    "'{} {}'.format(*pyproj.transform(p_gmuds, p_latlon, WestLon, SouthLat))])\n",
    "wkt_poly = 'POLYGON({})'.format(coords_)\n",
    "\n",
    "print(wkt_poly)"
   ]
  },
  {
   "cell_type": "code",
   "execution_count": 11,
   "metadata": {
    "collapsed": false
   },
   "outputs": [
    {
     "name": "stdout",
     "output_type": "stream",
     "text": [
      "(77.7145642475862, 19.191090019751435)\n",
      "(70.02542526072195, 35.59587024109527)\n",
      "(105.00000000000001, 41.898067681809735)\n",
      "(105.00000000000001, 23.717529627946796)\n",
      "(77.7145642475862, 19.191090019751435)\n"
     ]
    }
   ],
   "source": [
    "print(pyproj.transform(p_gmuds, p_latlon, WestLon, SouthLat))\n",
    "print(pyproj.transform(p_gmuds, p_latlon, WestLon, NorthLat))\n",
    "print(pyproj.transform(p_gmuds, p_latlon, EastLon, NorthLat))\n",
    "print(pyproj.transform(p_gmuds, p_latlon, EastLon, SouthLat))\n",
    "print(pyproj.transform(p_gmuds, p_latlon, WestLon, SouthLat))\n"
   ]
  },
  {
   "cell_type": "code",
   "execution_count": null,
   "metadata": {
    "collapsed": true
   },
   "outputs": [],
   "source": [
    "pyproj.transform(p_gmuds, p_latlon, EastLon, NorthLat)"
   ]
  },
  {
   "cell_type": "code",
   "execution_count": null,
   "metadata": {
    "collapsed": true
   },
   "outputs": [],
   "source": [
    "_bounds = (120000, 600000, 3000000, 3300000)\n",
    "\n",
    "\n"
   ]
  }
 ],
 "metadata": {
  "anaconda-cloud": {},
  "kernelspec": {
   "display_name": "Python [conda env:gmuds]",
   "language": "python",
   "name": "conda-env-gmuds-py"
  },
  "language_info": {
   "codemirror_mode": {
    "name": "ipython",
    "version": 3
   },
   "file_extension": ".py",
   "mimetype": "text/x-python",
   "name": "python",
   "nbconvert_exporter": "python",
   "pygments_lexer": "ipython3",
   "version": "3.5.4"
  }
 },
 "nbformat": 4,
 "nbformat_minor": 1
}
